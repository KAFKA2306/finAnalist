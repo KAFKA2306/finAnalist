{
 "cells": [
  {
   "cell_type": "code",
   "execution_count": 8,
   "metadata": {},
   "outputs": [
    {
     "name": "stdout",
     "output_type": "stream",
     "text": [
      "センチメント分析の結果がありません。\n",
      "An error occurred: 'ReportGenerator' object has no attribute 'save_report'\n"
     ]
    }
   ],
   "source": [
    "# -*- coding: utf-8 -*-\n",
    "from lib.data_collection import DataCollector\n",
    "from lib.news_analysis import NewsAnalyzer\n",
    "from lib.company_analysis import CompanyAnalyzer\n",
    "from lib.financial_analysis import FinancialAnalyzer\n",
    "from lib.report_generation import ReportGenerator\n",
    "from lib.simulation import InvestmentSimulator\n",
    "\n",
    "class InvestmentAnalysisPipeline:\n",
    "    def __init__(self, investment_theme):\n",
    "        self.investment_theme = investment_theme\n",
    "        self.data_collector = DataCollector()\n",
    "        self.news_analyzer = NewsAnalyzer()\n",
    "        self.company_analyzer = CompanyAnalyzer()\n",
    "        self.financial_analyzer = FinancialAnalyzer()\n",
    "        self.report_generator = ReportGenerator()\n",
    "        self.investment_simulator = InvestmentSimulator()\n",
    "\n",
    "    def run(self):\n",
    "        try:\n",
    "            news_data, tweet_data = self.collect_data()\n",
    "            sentiment_results = self.analyze_news(news_data)\n",
    "            related_companies, financial_data, stock_price_data = self.analyze_companies_and_financials(news_data)\n",
    "            company_analysis_results, financial_analysis_results, anomalies = self.perform_detailed_analysis(related_companies, financial_data)\n",
    "            self.generate_and_save_reports(sentiment_results, company_analysis_results, financial_analysis_results, anomalies)\n",
    "            self.simulate_and_evaluate_investment(stock_price_data)\n",
    "        except Exception as e:\n",
    "            print(f\"An error occurred: {e}\")\n",
    "\n",
    "    def collect_data(self):\n",
    "        news_data = self.data_collector.collect_news_data(self.investment_theme)\n",
    "        tweet_data = self.data_collector.collect_twitter_data(self.investment_theme)\n",
    "        return news_data, tweet_data\n",
    "\n",
    "    def analyze_news(self, news_data):\n",
    "        sentiment_results = self.news_analyzer.perform_sentiment_analysis(news_data)\n",
    "        if sentiment_results is None:\n",
    "            print(\"センチメント分析の結果がありません。\")\n",
    "            sentiment_results = {'positive': 0, 'negative': 0, 'neutral': 0}\n",
    "        self.news_analyzer.save_analysis_results(sentiment_results, \"data/news_analysis/sentiment.json\")\n",
    "        return sentiment_results\n",
    "\n",
    "    def analyze_companies_and_financials(self, news_data):\n",
    "        related_companies = self.news_analyzer.extract_related_companies(news_data)\n",
    "        financial_data = self.data_collector.collect_financial_data(related_companies)\n",
    "        stock_price_data = self.data_collector.collect_stock_price_data(related_companies)\n",
    "        return related_companies, financial_data, stock_price_data\n",
    "\n",
    "    def perform_detailed_analysis(self, related_companies, financial_data):\n",
    "        company_analysis_results = self.company_analyzer.analyze_companies(related_companies, financial_data)\n",
    "        financial_analysis_results = self.financial_analyzer.analyze_financials(financial_data)\n",
    "        anomalies = self.financial_analyzer.detect_anomalies(financial_data)\n",
    "        return company_analysis_results, financial_analysis_results, anomalies\n",
    "\n",
    "    def generate_and_save_reports(self, sentiment_results, company_analysis_results, financial_analysis_results, anomalies):\n",
    "        report_data = {\n",
    "            'sentiment_results': sentiment_results,\n",
    "            'company_analysis_results': company_analysis_results,\n",
    "            'financial_analysis_results': financial_analysis_results,\n",
    "            'anomalies': anomalies\n",
    "        }\n",
    "        self.report_generator.generate_report(report_data)\n",
    "        self.report_generator.save_report(\"data/reports/investment_analysis_report.pdf\")\n",
    "\n",
    "    def simulate_and_evaluate_investment(self, stock_price_data):\n",
    "        simulation_results = self.investment_simulator.simulate_investment(stock_price_data)\n",
    "        self.investment_simulator.save_simulation_results(simulation_results, \"data/simulation/investment_simulation.json\")\n",
    "        \n",
    "    def save_report(self, report_data, file_path):\n",
    "        # ここにレポートをファイルに保存するコードを実装します。\n",
    "        # 以下はPDFファイルを保存する一般的な例ですが、実際の実装は異なる場合があります。\n",
    "        with open(file_path, 'w') as file:\n",
    "            file.write(report_data)\n",
    "        print(f\"Report saved to {file_path}\")\n",
    "        \n",
    "        \n",
    "        \n",
    "if __name__ == \"__main__\":\n",
    "    investment_theme = \"再生可能エネルギー\"\n",
    "    pipeline = InvestmentAnalysisPipeline(investment_theme)\n",
    "    pipeline.run()"
   ]
  },
  {
   "cell_type": "code",
   "execution_count": null,
   "metadata": {},
   "outputs": [],
   "source": []
  },
  {
   "cell_type": "code",
   "execution_count": null,
   "metadata": {},
   "outputs": [],
   "source": []
  }
 ],
 "metadata": {
  "kernelspec": {
   "display_name": "base",
   "language": "python",
   "name": "python3"
  },
  "language_info": {
   "codemirror_mode": {
    "name": "ipython",
    "version": 3
   },
   "file_extension": ".py",
   "mimetype": "text/x-python",
   "name": "python",
   "nbconvert_exporter": "python",
   "pygments_lexer": "ipython3",
   "version": "3.11.5"
  }
 },
 "nbformat": 4,
 "nbformat_minor": 2
}
